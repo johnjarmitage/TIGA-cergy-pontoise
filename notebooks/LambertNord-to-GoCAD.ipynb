{
 "cells": [
  {
   "cell_type": "markdown",
   "metadata": {},
   "source": [
    "# Coordinate conversion from Lambert to GoCAD"
   ]
  },
  {
   "cell_type": "markdown",
   "metadata": {},
   "source": [
    "GoCAD coordinates are centred at an origin, it looks like I had the model in lat, long in degress, and did a simple conversion using $x(m) = 10^{5}\\times\\left(x(^{\\circ})-1.99\\right)$ and $y(m) = 10^{5}*\\left(y(^{\\circ}) - 48.8 \\right)$. So the steps to try is to convert Lambert to lat, lon in degrees and then apply my arbitrary conversion above."
   ]
  },
  {
   "cell_type": "code",
   "execution_count": 1,
   "metadata": {},
   "outputs": [],
   "source": [
    "import numpy as np\n",
    "import matplotlib.pyplot as plt\n",
    "import pyproj"
   ]
  },
  {
   "cell_type": "code",
   "execution_count": 2,
   "metadata": {},
   "outputs": [
    {
     "name": "stdout",
     "output_type": "stream",
     "text": [
      "(49.046016266573425, 2.0415015229444404)\n"
     ]
    }
   ],
   "source": [
    "proj = pyproj.Transformer.from_crs(27561, 4326, always_xy=True)  # EPSG code for Lambert 93; EPSG code for WGS 84\n",
    "\n",
    "x1, y1 = (578436, 149566)\n",
    "x2, y2 = proj.transform(x1, y1)\n",
    "print((y2, x2))"
   ]
  },
  {
   "cell_type": "code",
   "execution_count": 3,
   "metadata": {},
   "outputs": [
    {
     "name": "stdout",
     "output_type": "stream",
     "text": [
      "(5150.152294444044, 6601.626657342735)\n"
     ]
    }
   ],
   "source": [
    "xGoCAD = 1e5 * (x2 - 1.99)\n",
    "yGoCAD = 1e5 * (y2 - 48.8) - 18000\n",
    "print((xGoCAD, yGoCAD))"
   ]
  },
  {
   "cell_type": "code",
   "execution_count": null,
   "metadata": {},
   "outputs": [],
   "source": []
  }
 ],
 "metadata": {
  "kernelspec": {
   "display_name": "Python 3",
   "language": "python",
   "name": "python3"
  },
  "language_info": {
   "codemirror_mode": {
    "name": "ipython",
    "version": 3
   },
   "file_extension": ".py",
   "mimetype": "text/x-python",
   "name": "python",
   "nbconvert_exporter": "python",
   "pygments_lexer": "ipython3",
   "version": "3.8.5"
  }
 },
 "nbformat": 4,
 "nbformat_minor": 4
}
