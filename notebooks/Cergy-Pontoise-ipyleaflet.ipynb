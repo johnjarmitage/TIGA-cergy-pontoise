{
 "cells": [
  {
   "cell_type": "markdown",
   "metadata": {},
   "source": [
    "# Get output of the GemPy notebook into raster layers for ipyleafelt"
   ]
  },
  {
   "cell_type": "code",
   "execution_count": 1,
   "metadata": {},
   "outputs": [],
   "source": [
    "import os\n",
    "\n",
    "# the ipyleaflet stuff\n",
    "from ipyleaflet import Map, GeoData, basemaps, LayersControl\n",
    "import geopandas as gpd\n",
    "import json\n",
    "\n",
    "# some other stuff\n",
    "import numpy as np\n",
    "import matplotlib.pyplot as plt\n",
    "\n",
    "# raster stuff\n",
    "import rasterio as rio\n",
    "from osgeo import gdal\n",
    "import osr\n",
    "from pyproj import Proj"
   ]
  },
  {
   "cell_type": "markdown",
   "metadata": {},
   "source": [
    "List of the horizons"
   ]
  },
  {
   "cell_type": "code",
   "execution_count": 2,
   "metadata": {},
   "outputs": [],
   "source": [
    "horizons = ['Sables de Fontainebleau',\n",
    "            'Glaises vertes/marnes',\n",
    "            'Marnes et Masses',\n",
    "            'Sables de Monceau',\n",
    "            'Marno-calcaire de St Ouen',\n",
    "            'Sables de Beauchamp',\n",
    "            'Marnes et caillasses',\n",
    "            'Calcaire grossier',\n",
    "            'Sables de Cuise',\n",
    "            'Fausses/Argil Sparnacien',\n",
    "            'Basement']"
   ]
  },
  {
   "cell_type": "code",
   "execution_count": 3,
   "metadata": {},
   "outputs": [],
   "source": [
    "xvals = np.load('x-coord.npy')\n",
    "yvals = np.load('y-coord.npy')\n",
    "zvals = np.load('z-coord.npy')\n",
    "lith_block = np.load('lith_block.npy')"
   ]
  },
  {
   "cell_type": "code",
   "execution_count": 4,
   "metadata": {},
   "outputs": [],
   "source": [
    "zmid = (np.diff(zvals))"
   ]
  },
  {
   "cell_type": "code",
   "execution_count": 5,
   "metadata": {},
   "outputs": [],
   "source": [
    "def array2raster(newRasterfn, rasterOrigin, pixelWidth, pixelHeight, array, EPSG):\n",
    "    cols = array.shape[1]\n",
    "    rows = array.shape[0]\n",
    "    originX = rasterOrigin[0]\n",
    "    originY = rasterOrigin[1]\n",
    "\n",
    "    driver = gdal.GetDriverByName('GTiff')\n",
    "    driver.Register()\n",
    "    outRaster = driver.Create(newRasterfn, cols, rows, 1, gdal.GDT_Float32)\n",
    "    outRaster.SetGeoTransform((originX, pixelWidth, 0, originY, 0, pixelHeight))\n",
    "    outband = outRaster.GetRasterBand(1)\n",
    "    outband.WriteArray(array)\n",
    "    outRasterSRS = osr.SpatialReference()\n",
    "    outRasterSRS.ImportFromEPSG(EPSG)\n",
    "    outRaster.SetProjection(outRasterSRS.ExportToWkt())\n",
    "    outband.FlushCache()\n",
    "    outband.SetNoDataValue(-9999)\n",
    "\n",
    "def array2rasterflip(newRasterfn, rasterOrigin, pixelWidth, pixelHeight, array, EPSG):\n",
    "    reversed_arr = array[::-1] # reverse array so the tif looks like the array\n",
    "    array2raster(newRasterfn, rasterOrigin, pixelWidth, pixelHeight, reversed_arr, EPSG) # convert array to raster"
   ]
  },
  {
   "cell_type": "code",
   "execution_count": 6,
   "metadata": {},
   "outputs": [
    {
     "name": "stdout",
     "output_type": "stream",
     "text": [
      "Origin = ((427688.6540389154, 5427374.935779131)), Width = 65.2391638195957, Height 68.37963499478995\n"
     ]
    }
   ],
   "source": [
    "xmin = np.min(xvals)\n",
    "xmax = np.max(xvals)\n",
    "xres = len(xvals) - 2\n",
    "ymin = np.min(yvals)\n",
    "ymax = np.max(yvals)\n",
    "yres = len(yvals) - 2\n",
    "\n",
    "rasterfile = 'test.tif'\n",
    "rasterOrigin = (xmin, ymin)\n",
    "pixelWidth = (xmax-xmin)/xres\n",
    "pixelHeight = (ymax-ymin)/yres\n",
    "EPSG = 32631\n",
    "\n",
    "print('Origin = ({}), Width = {}, Height {}'.format(rasterOrigin, pixelWidth, pixelHeight))"
   ]
  },
  {
   "cell_type": "code",
   "execution_count": 7,
   "metadata": {},
   "outputs": [],
   "source": [
    "array2rasterflip(rasterfile, rasterOrigin, pixelWidth, pixelHeight, lith_block[:, :, 10], EPSG)"
   ]
  },
  {
   "cell_type": "code",
   "execution_count": 8,
   "metadata": {},
   "outputs": [
    {
     "data": {
      "image/png": "[encoded data removed]",
      "text/plain": [
       "<Figure size 432x288 with 2 Axes>"
      ]
     },
     "metadata": {
      "needs_background": "light"
     },
     "output_type": "display_data"
    }
   ],
   "source": [
    "rio_array = rio.open(rasterfile) \n",
    "data_array = rio_array.read(1).astype(float)\n",
    "data_array[data_array < 0] = np.nan\n",
    "fig=plt.figure()\n",
    "plt.imshow(data_array, aspect='auto', cmap='viridis')\n",
    "plt.title('Input DEM')\n",
    "plt.colorbar(label='Lithology')\n",
    "plt.show()"
   ]
  },
  {
   "cell_type": "code",
   "execution_count": 9,
   "metadata": {},
   "outputs": [
    {
     "name": "stdout",
     "output_type": "stream",
     "text": [
      "UTM centre = (427688.6540389154, 5427374.935779131)\n",
      "centre = (2.055460350385299, 49.02616282824103)\n"
     ]
    }
   ],
   "source": [
    "myProj = Proj(\"+proj=utm +zone=31N +ellps=WGS84 +datum=WGS84 +units=m +no_defs\")\n",
    "centreLon, centreLat = myProj(xmin + .5*(xmax-xmin), ymin + .5*(ymax - ymin), inverse=True)\n",
    "print('UTM centre = ({}, {})'.format(xmin, ymin))\n",
    "print('centre = ({}, {})'.format(centreLon, centreLat))"
   ]
  },
  {
   "cell_type": "code",
   "execution_count": 10,
   "metadata": {},
   "outputs": [],
   "source": [
    "dem_path = 'testLatLon.tif'\n",
    "topoDEM = os.getcwd() + '/' + dem_path\n",
    "dst_crs = 'EPSG:4326'"
   ]
  },
  {
   "cell_type": "code",
   "execution_count": 11,
   "metadata": {},
   "outputs": [],
   "source": [
    "from rasterio.warp import calculate_default_transform, reproject, Resampling\n",
    "\n",
    "with rio.open(rasterfile) as src:\n",
    "    transform, width, height = calculate_default_transform(\n",
    "        src.crs, dst_crs, src.width, src.height, *src.bounds)\n",
    "    kwargs = src.meta.copy()\n",
    "    kwargs.update({\n",
    "        'crs': dst_crs,\n",
    "        'transform': transform,\n",
    "        'width': width,\n",
    "        'height': height\n",
    "    })\n",
    "\n",
    "    with rio.open(topoDEM, 'w', **kwargs) as dst:\n",
    "        for i in range(1, src.count + 1):\n",
    "            reproject(\n",
    "                source=rio.band(src, i),\n",
    "                destination=rio.band(dst, i),\n",
    "                src_transform=src.transform,\n",
    "                src_crs=src.crs,\n",
    "                dst_transform=transform,\n",
    "                dst_crs=dst_crs,\n",
    "                resampling=Resampling.nearest)"
   ]
  },
  {
   "cell_type": "code",
   "execution_count": 23,
   "metadata": {},
   "outputs": [
    {
     "name": "stdout",
     "output_type": "stream",
     "text": [
      "Generating Base Tiles:\n",
      "0...10...20...30...40...50...60...70...80...90...100\n",
      "Generating Overview Tiles:\n",
      "0...10...20...30...40...50...60...70...80...90...100\n"
     ]
    }
   ],
   "source": [
    "import gdal2tiles\n",
    "\n",
    "gdal2tiles.generate_tiles(rasterfile, 'tileset', s_srs='EPSG:32631', zoom='10-14', tile_size=100)"
   ]
  },
  {
   "cell_type": "code",
   "execution_count": 24,
   "metadata": {},
   "outputs": [
    {
     "data": {
      "application/vnd.jupyter.widget-view+json": {
       "model_id": "40bd0416cd724a8185c50406ea2d1d57",
       "version_major": 2,
       "version_minor": 0
      },
      "text/plain": [
       "Map(center=[49.02616282824103, 2.055460350385299], controls=(ZoomControl(options=['position', 'zoom_in_text', …"
      ]
     },
     "metadata": {},
     "output_type": "display_data"
    }
   ],
   "source": [
    "from traitlets import Bool\n",
    "from ipyleaflet import Map, LocalTileLayer\n",
    "\n",
    "m = Map(center=(centreLat, centreLon), zoom = 10, basemap=basemaps.Esri.WorldTopoMap)\n",
    "\n",
    "class CustomLocalLayer(LocalTileLayer):\n",
    "    tms = Bool(True).tag(sync=True, o=True)\n",
    "\n",
    "layer = CustomLocalLayer(name='subsurface', tms=True, path=\"tileset/{z}/{x}/{y}.png\")\n",
    "m.add_layer(layer)\n",
    "\n",
    "control = LayersControl(position='topright')\n",
    "m.add_control(control)\n",
    "\n",
    "m"
   ]
  },
  {
   "cell_type": "code",
   "execution_count": 25,
   "metadata": {},
   "outputs": [
    {
     "data": {
      "text/plain": [
       "(100, 100)"
      ]
     },
     "execution_count": 25,
     "metadata": {},
     "output_type": "execute_result"
    }
   ],
   "source": [
    "np.shape(data_array)"
   ]
  },
  {
   "cell_type": "code",
   "execution_count": null,
   "metadata": {},
   "outputs": [],
   "source": []
  }
 ],
 "metadata": {
  "kernelspec": {
   "display_name": "Python 3",
   "language": "python",
   "name": "python3"
  },
  "language_info": {
   "codemirror_mode": {
    "name": "ipython",
    "version": 3
   },
   "file_extension": ".py",
   "mimetype": "text/x-python",
   "name": "python",
   "nbconvert_exporter": "python",
   "pygments_lexer": "ipython3",
   "version": "3.8.5"
  }
 },
 "nbformat": 4,
 "nbformat_minor": 4
}
