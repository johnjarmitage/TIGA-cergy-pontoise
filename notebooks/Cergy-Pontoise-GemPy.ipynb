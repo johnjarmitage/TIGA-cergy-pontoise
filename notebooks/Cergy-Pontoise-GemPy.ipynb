{
 "cells": [
  {
   "cell_type": "markdown",
   "metadata": {},
   "source": [
    "# Cergy-Pontoise\n",
    "\n",
    "Test to create model of subsurface below Cergy from pikcs of hand-drawn map of the subsurface"
   ]
  },
  {
   "cell_type": "code",
   "execution_count": null,
   "metadata": {},
   "outputs": [],
   "source": [
    "import os\n",
    "\n",
    "# Importing GemPy\n",
    "import gempy as gp\n",
    "\n",
    "# VTK export\n",
    "import pyevtk\n",
    "\n",
    "# Importing aux libraries\n",
    "from ipywidgets import interact\n",
    "import numpy as np\n",
    "import matplotlib.pyplot as plt\n",
    "import matplotlib.image as mpimg"
   ]
  },
  {
   "cell_type": "code",
   "execution_count": null,
   "metadata": {},
   "outputs": [],
   "source": [
    "# Import pandas and geopandas\n",
    "import pandas as pd\n",
    "import geopandas as pgd\n",
    "\n",
    "# Projections for coordinates\n",
    "from pyproj import Proj\n",
    "import rasterio as rio\n",
    "\n",
    "# To download DEM\n",
    "import elevation"
   ]
  },
  {
   "cell_type": "markdown",
   "metadata": {},
   "source": [
    "Import the text file of my picks using SKUA-GOCAD (Negative is up in GOCAD and down in GemPy, so need to flip Z)"
   ]
  },
  {
   "cell_type": "code",
   "execution_count": null,
   "metadata": {},
   "outputs": [],
   "source": [
    "file = '/work/armitagj/skua/TIGA/horizons_test.txt'\n",
    "colnames = ['horizon', 'X', 'Y', 'Z']\n",
    "df = pd.read_csv(file, names=colnames, header=None)\n",
    "df['Z'] = -df['Z']\n",
    "df.describe()"
   ]
  },
  {
   "cell_type": "markdown",
   "metadata": {},
   "source": [
    "Need to translate the arbitrary X, Y, Z coordinates into topography and elevation. The idea is to use some geographical markers to convert from X, Y to decimal Lat, Long. For elevation, the map is relative to N.G.F. (https://en.wikipedia.org/wiki/General_levelling_of_France) so lets take that as sea-level for now."
   ]
  },
  {
   "cell_type": "code",
   "execution_count": null,
   "metadata": {},
   "outputs": [],
   "source": [
    "file = '/work/armitagj/skua/TIGA/georeference_test.txt'\n",
    "colnames = ['X', 'Y', 'Lat', 'Long']\n",
    "refdf = pd.read_csv(file, names=colnames, header=None)"
   ]
  },
  {
   "cell_type": "code",
   "execution_count": null,
   "metadata": {},
   "outputs": [],
   "source": [
    "fig, axs = plt.subplots(2)\n",
    "fig.suptitle('X, Y to Lat, Long')\n",
    "axs[0].scatter(refdf.X, refdf.Long)\n",
    "axs[1].scatter(refdf.Y, refdf.Lat)\n",
    "plt.show()"
   ]
  },
  {
   "cell_type": "code",
   "execution_count": null,
   "metadata": {},
   "outputs": [],
   "source": [
    "mxlong, cxlong = np.linalg.lstsq(np.vstack([refdf.X, np.ones(len(refdf))]).T, refdf.Long, rcond=None)[0]\n",
    "mylat, cylat = np.linalg.lstsq(np.vstack([refdf.Y, np.ones(len(refdf))]).T, refdf.Lat, rcond=None)[0]"
   ]
  },
  {
   "cell_type": "code",
   "execution_count": null,
   "metadata": {},
   "outputs": [],
   "source": [
    "x = np.array([6500, 10500])\n",
    "y = np.array([20000, 29000])\n",
    "\n",
    "fig, axs = plt.subplots(2)\n",
    "fig.suptitle('X, Y to Lat, Long')\n",
    "axs[0].scatter(refdf.X, refdf.Long)\n",
    "axs[0].plot(x, x*mxlong + cxlong, 'r')\n",
    "axs[1].scatter(refdf.Y, refdf.Lat)\n",
    "axs[1].plot(y, y*mylat + cylat, 'r')\n",
    "plt.show()"
   ]
  },
  {
   "cell_type": "markdown",
   "metadata": {},
   "source": [
    "Define the model for GemPy with the extent and the resolution"
   ]
  },
  {
   "cell_type": "markdown",
   "metadata": {},
   "source": [
    "Use linear regression to convert the arbitrary X, Y to lat, long"
   ]
  },
  {
   "cell_type": "code",
   "execution_count": null,
   "metadata": {},
   "outputs": [],
   "source": [
    "df['Long'] = df['X']*mxlong + cxlong\n",
    "df['Lat'] = df['Y']*mylat + cylat"
   ]
  },
  {
   "cell_type": "code",
   "execution_count": null,
   "metadata": {},
   "outputs": [],
   "source": [
    "myProj = Proj(\"+proj=utm +zone=31N, +south +ellps=WGS84 +datum=WGS84 +units=m +no_defs\")\n",
    "df['UTMx'], df['UTMy'] = myProj(df['Long'].values, df['Lat'].values)\n",
    "print(df.UTMx.min())\n",
    "print(df.UTMx.max())\n",
    "print(df.UTMy.min())\n",
    "print(df.UTMy.max())"
   ]
  },
  {
   "cell_type": "markdown",
   "metadata": {},
   "source": [
    "Use UTM Lat, Long data for model"
   ]
  },
  {
   "cell_type": "code",
   "execution_count": null,
   "metadata": {},
   "outputs": [],
   "source": [
    "minx = df.UTMx.min()\n",
    "maxx = df.UTMx.max()\n",
    "miny = df.UTMy.min()\n",
    "maxy = df.UTMy.max()\n",
    "minz = df.Z.min()\n",
    "maxz = df.Z.max()\n",
    "resx = 100\n",
    "resy = 100\n",
    "resz = 50\n",
    "\n",
    "geo_model = gp.create_model('cergy_pontoise')\n",
    "geo_model = gp.init_data(geo_model,\n",
    "                         extent= [minx, maxx, miny, maxy, minz, maxz], # of the regular grid\n",
    "                         resolution=[resx, resy, resz])         # of the regular grid"
   ]
  },
  {
   "cell_type": "code",
   "execution_count": null,
   "metadata": {},
   "outputs": [],
   "source": [
    "gp.set_interpolator(\n",
    "    geo_model,\n",
    "    compile_theano=True,\n",
    "    theano_optimizer='fast_compile',\n",
    "    gradient=False) # alternatives: 'fast_run' or\n",
    "                                     # check http://deeplearning.net/software/theano/tutorial/modes.html "
   ]
  },
  {
   "cell_type": "code",
   "execution_count": null,
   "metadata": {},
   "outputs": [],
   "source": [
    "#p3d = gp.plot_3d(geo_model, plotter_type='background', notebook=False)"
   ]
  },
  {
   "cell_type": "markdown",
   "metadata": {},
   "source": [
    "Create the surfaces from the dataframe. They need to be in stratigraphic order, youngest first."
   ]
  },
  {
   "cell_type": "code",
   "execution_count": null,
   "metadata": {},
   "outputs": [],
   "source": [
    "geo_model.add_surfaces(['Fontaine', 'Glaises', 'Marnes_m', 'Sables_M', 'Marno', 'Sables_de_B', 'Marnes_cail', 'Craie', 'Sables', 'Fausses_A', 'Basement'])"
   ]
  },
  {
   "cell_type": "markdown",
   "metadata": {},
   "source": [
    "Read in the horizons from the dataframe and order them with IDs that are useful"
   ]
  },
  {
   "cell_type": "code",
   "execution_count": null,
   "metadata": {},
   "outputs": [],
   "source": [
    "for index in range(len(df)):\n",
    "    geo_model.add_surface_points(X=df.UTMx.iloc[index], Y=df.UTMy.iloc[index], Z=df.Z.iloc[index], surface=df.horizon.iloc[index])"
   ]
  },
  {
   "cell_type": "markdown",
   "metadata": {},
   "source": [
    "Add orientation"
   ]
  },
  {
   "cell_type": "code",
   "execution_count": null,
   "metadata": {},
   "outputs": [],
   "source": [
    "for index in range(len(df)):\n",
    "    geo_model.add_orientations(X=df.UTMx.iloc[index], Y=df.UTMy.iloc[index], Z=df.Z.iloc[index], surface=df.horizon.iloc[index],\n",
    "                           pole_vector= (0,0,1))\n"
   ]
  },
  {
   "cell_type": "code",
   "execution_count": null,
   "metadata": {},
   "outputs": [],
   "source": [
    "#p3d.plot_data()"
   ]
  },
  {
   "cell_type": "markdown",
   "metadata": {},
   "source": [
    "Compute the model"
   ]
  },
  {
   "cell_type": "code",
   "execution_count": null,
   "metadata": {},
   "outputs": [],
   "source": [
    "# Compute model\n",
    "#gp.compute_model(geo_model)\n",
    "\n",
    "#p3d.plot_surfaces()\n",
    "#p3d.plot_structured_grid(opacity=.2)"
   ]
  },
  {
   "cell_type": "markdown",
   "metadata": {},
   "source": [
    "Get topography (there is a bug if my topo is the exact same size as the model, so added some padding to it)"
   ]
  },
  {
   "cell_type": "code",
   "execution_count": null,
   "metadata": {},
   "outputs": [],
   "source": [
    "minlon = df.Long.min()-0.01\n",
    "maxlon = df.Long.max()+0.01\n",
    "minlat = df.Lat.min()-0.01\n",
    "maxlat = df.Lat.max()+0.01\n",
    "\n",
    "# Create a temporary file to store the DEM and go get it using elevation\n",
    "dem_path = 'tmp.tif'\n",
    "output = os.getcwd() + '/' + dem_path\n",
    "elevation.clip(bounds=(minlon, minlat, maxlon, maxlat), output=output, product='SRTM1')"
   ]
  },
  {
   "cell_type": "code",
   "execution_count": null,
   "metadata": {},
   "outputs": [],
   "source": [
    "from osgeo import gdal\n",
    "\n",
    "gdal_data = gdal.Open(output)\n",
    "data_array = gdal_data.ReadAsArray().astype(np.float)\n",
    "plt.figure()\n",
    "plt.imshow(data_array)\n",
    "plt.colorbar()\n",
    "plt.show"
   ]
  },
  {
   "cell_type": "code",
   "execution_count": null,
   "metadata": {},
   "outputs": [],
   "source": [
    "with rio.open(output) as src:\n",
    "    print(src.crs)"
   ]
  },
  {
   "cell_type": "code",
   "execution_count": null,
   "metadata": {},
   "outputs": [],
   "source": [
    "dem_path = 'tmpUTM.tif'\n",
    "topoDEM = os.getcwd() + '/' + dem_path\n",
    "dst_crs = 'EPSG:32631'"
   ]
  },
  {
   "cell_type": "code",
   "execution_count": null,
   "metadata": {},
   "outputs": [],
   "source": [
    "from rasterio.warp import calculate_default_transform, reproject, Resampling\n",
    "\n",
    "with rio.open(output) as src:\n",
    "    transform, width, height = calculate_default_transform(\n",
    "        src.crs, dst_crs, src.width, src.height, *src.bounds)\n",
    "    kwargs = src.meta.copy()\n",
    "    kwargs.update({\n",
    "        'crs': dst_crs,\n",
    "        'transform': transform,\n",
    "        'width': width,\n",
    "        'height': height\n",
    "    })\n",
    "\n",
    "    with rio.open(topoDEM, 'w', **kwargs) as dst:\n",
    "        for i in range(1, src.count + 1):\n",
    "            reproject(\n",
    "                source=rio.band(src, i),\n",
    "                destination=rio.band(dst, i),\n",
    "                src_transform=src.transform,\n",
    "                src_crs=src.crs,\n",
    "                dst_transform=transform,\n",
    "                dst_crs=dst_crs,\n",
    "                resampling=Resampling.nearest)"
   ]
  },
  {
   "cell_type": "code",
   "execution_count": null,
   "metadata": {},
   "outputs": [],
   "source": [
    "geo_model.set_topography(source='gdal', filepath=topoDEM)"
   ]
  },
  {
   "cell_type": "code",
   "execution_count": null,
   "metadata": {},
   "outputs": [],
   "source": [
    "gp.plot_2d(geo_model, show_topography=True, section_names=['topography'], show_lith=False,\n",
    "           show_boundaries=False,\n",
    "           kwargs_topography={'cmap': 'gray', 'norm': None}\n",
    "           )\n",
    "plt.show()"
   ]
  },
  {
   "cell_type": "markdown",
   "metadata": {},
   "source": [
    "Compute a new model"
   ]
  },
  {
   "cell_type": "code",
   "execution_count": null,
   "metadata": {},
   "outputs": [],
   "source": [
    "# Compute model\n",
    "gp.compute_model(geo_model, compute_mesh=False, set_solutions=True)\n",
    "\n",
    "p3d_ = gp.plot_3d(geo_model, plotter_type='background', notebook=False)\n",
    "p3d_.plot_surfaces()\n",
    "#p3d_.plot_structured_grid(opacity=.2)"
   ]
  },
  {
   "cell_type": "code",
   "execution_count": null,
   "metadata": {},
   "outputs": [],
   "source": [
    "g3d = gp.plot_3d(geo_model,\n",
    "                 show_topography=True,\n",
    "                 show_lith=False,\n",
    "                 show_surfaces=False,\n",
    "                 show_results=False,\n",
    "                 ve=5,\n",
    "                 plotter_type='background',\n",
    "                 notebook=False)"
   ]
  },
  {
   "cell_type": "code",
   "execution_count": null,
   "metadata": {},
   "outputs": [],
   "source": [
    "p3d_ = gp.plot_3d(geo_model,\n",
    "                  plotter_type='background',\n",
    "                  notebook=False,\n",
    "                  ve=5)\n",
    "p3d_.plot_surfaces()"
   ]
  },
  {
   "cell_type": "markdown",
   "metadata": {},
   "source": [
    "Get the 3D volume plotted in the line above, to understand it better "
   ]
  },
  {
   "cell_type": "code",
   "execution_count": null,
   "metadata": {},
   "outputs": [],
   "source": [
    "xmin = geo_model.solutions.grid.regular_grid.extent[0]        #min coordinate value (left)\n",
    "xmax = geo_model.solutions.grid.regular_grid.extent[1]        #max coordinate value (right)\n",
    "xres = geo_model.solutions.grid.regular_grid.resolution[0]    #number of pixels\n",
    "dx   = (xmax-xmin)/xres                       #pixel width\n",
    "xvals = np.arange(xmin,xmax+dx,dx)            #calculate x coordinate values of the boundaries between cells\n",
    "\n",
    "ymin = geo_model.solutions.grid.regular_grid.extent[2]\n",
    "ymax = geo_model.solutions.grid.regular_grid.extent[3]\n",
    "yres = geo_model.solutions.grid.regular_grid.resolution[1]\n",
    "dy   = (ymax-ymin)/yres\n",
    "yvals = np.arange(ymin,ymax+dy,dy)\n",
    "\n",
    "zmin = geo_model.solutions.grid.regular_grid.extent[4]\n",
    "zmax = geo_model.solutions.grid.regular_grid.extent[5]\n",
    "zres = geo_model.solutions.grid.regular_grid.resolution[2]\n",
    "dz   = (zmax-zmin)/zres\n",
    "zvals = np.arange(zmin,zmax+dz,dz)"
   ]
  },
  {
   "cell_type": "code",
   "execution_count": null,
   "metadata": {},
   "outputs": [],
   "source": [
    "print(np.shape(xvals))"
   ]
  },
  {
   "cell_type": "code",
   "execution_count": null,
   "metadata": {},
   "outputs": [],
   "source": [
    "g = geo_model.solutions.lith_block.copy()            #make a copy to avoid messing up original\n",
    "g = np.reshape(g, (xres,yres,zres))"
   ]
  },
  {
   "cell_type": "markdown",
   "metadata": {},
   "source": [
    "Save x, y, z, and g for plotting within ipyleaflet in another notebook..."
   ]
  },
  {
   "cell_type": "code",
   "execution_count": null,
   "metadata": {},
   "outputs": [],
   "source": [
    "np.save('x-coord.npy', xvals)\n",
    "np.save('y-coord.npy', yvals)\n",
    "np.save('z-coord.npy', zvals)\n",
    "np.save('lith_block.npy', g)"
   ]
  },
  {
   "cell_type": "markdown",
   "metadata": {},
   "source": [
    "save lith_block at topography to vtk (https://github.com/cgre-aachen/gempy/issues/159)"
   ]
  },
  {
   "cell_type": "code",
   "execution_count": null,
   "metadata": {},
   "outputs": [],
   "source": [
    "path = 'tiga-model' # no extension\n",
    "pyevtk.hl.gridToVTK(path, xvals, yvals, zvals, cellData={'data': g}) #export to VTK"
   ]
  },
  {
   "cell_type": "markdown",
   "metadata": {},
   "source": [
    "try save to pickle to get the state into a simple notebook"
   ]
  },
  {
   "cell_type": "code",
   "execution_count": null,
   "metadata": {},
   "outputs": [],
   "source": [
    "gp.save_model_to_pickle(geo_model, 'checkpoint1')"
   ]
  },
  {
   "cell_type": "code",
   "execution_count": null,
   "metadata": {},
   "outputs": [],
   "source": []
  }
 ],
 "metadata": {
  "kernelspec": {
   "display_name": "Python 3",
   "language": "python",
   "name": "python3"
  },
  "language_info": {
   "codemirror_mode": {
    "name": "ipython",
    "version": 3
   },
   "file_extension": ".py",
   "mimetype": "text/x-python",
   "name": "python",
   "nbconvert_exporter": "python",
   "pygments_lexer": "ipython3",
   "version": "3.8.5"
  }
 },
 "nbformat": 4,
 "nbformat_minor": 4
}
