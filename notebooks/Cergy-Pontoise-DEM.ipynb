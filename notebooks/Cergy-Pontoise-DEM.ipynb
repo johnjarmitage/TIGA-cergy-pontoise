{
 "cells": [
  {
   "cell_type": "markdown",
   "metadata": {},
   "source": [
    "# Export DEM for Cergy-Pontoise for use in GOCAD"
   ]
  },
  {
   "cell_type": "code",
   "execution_count": 1,
   "metadata": {},
   "outputs": [],
   "source": [
    "import os\n",
    "import numpy as np\n",
    "import matplotlib.pyplot as plt\n",
    "\n",
    "# Import pandas and geopandas\n",
    "import pandas as pd\n",
    "import geopandas as pgd\n",
    "\n",
    "# Projections for coordinates\n",
    "from pyproj import Proj\n",
    "import rasterio as rio\n",
    "from osgeo import gdal\n",
    "\n",
    "# To download DEM\n",
    "import elevation"
   ]
  },
  {
   "cell_type": "markdown",
   "metadata": {},
   "source": [
    "Get picks and from their locations select the DEM"
   ]
  },
  {
   "cell_type": "code",
   "execution_count": 2,
   "metadata": {},
   "outputs": [],
   "source": [
    "file = '/work/armitagj/skua/TIGA/horizons_test.txt'\n",
    "colnames = ['horizon', 'X', 'Y', 'Z']\n",
    "df = pd.read_csv(file, names=colnames, header=None)\n",
    "df['Z'] = -df['Z']\n",
    "\n",
    "# picks for georeferencing\n",
    "file = '/work/armitagj/skua/TIGA/georeference_test.txt'\n",
    "colnames = ['X', 'Y', 'Lat', 'Long']\n",
    "refdf = pd.read_csv(file, names=colnames, header=None)\n",
    "\n",
    "# linear regression for change of coordinates\n",
    "mxlong, cxlong = np.linalg.lstsq(np.vstack([refdf.X, np.ones(len(refdf))]).T, refdf.Long, rcond=None)[0]\n",
    "mylat, cylat = np.linalg.lstsq(np.vstack([refdf.Y, np.ones(len(refdf))]).T, refdf.Lat, rcond=None)[0]\n",
    "df['Long'] = df['X']*mxlong + cxlong\n",
    "df['Lat'] = df['Y']*mylat + cylat\n",
    "\n",
    "# project into EPSG:32631\n",
    "myProj = Proj(\"+proj=utm +zone=31N, +south +ellps=WGS84 +datum=WGS84 +units=m +no_defs\")\n",
    "df['UTMx'], df['UTMy'] = myProj(df['Long'].values, df['Lat'].values)"
   ]
  },
  {
   "cell_type": "markdown",
   "metadata": {},
   "source": [
    "Get topography data"
   ]
  },
  {
   "cell_type": "code",
   "execution_count": 3,
   "metadata": {},
   "outputs": [],
   "source": [
    "minlon = df.Long.min()-0.01\n",
    "maxlon = df.Long.max()+0.01\n",
    "minlat = df.Lat.min()-0.01\n",
    "maxlat = df.Lat.max()+0.01\n",
    "\n",
    "# Create a temporary file to store the DEM and go get it using elevation\n",
    "dem_path = 'tmp.tif'\n",
    "output = os.getcwd() + '/' + dem_path\n",
    "elevation.clip(bounds=(minlon, minlat, maxlon, maxlat), output=output, product='SRTM1')"
   ]
  },
  {
   "cell_type": "markdown",
   "metadata": {},
   "source": [
    "Export lat/long topo to ascii format"
   ]
  },
  {
   "cell_type": "code",
   "execution_count": 4,
   "metadata": {},
   "outputs": [],
   "source": [
    "def tif2asc(tiffile, ascfile):\n",
    "    \"\"\"\n",
    "    Function to convert a geotiff (.tif) file into an ascii file (.asc)\n",
    "    :param tiffile: input geotiff file name\n",
    "    :param ascfile: output ascii file name (CAESAR expects .asc)\n",
    "    :return: None\n",
    "    \"\"\"\n",
    "    rio_array = rio.open(tiffile)  # read in tif file\n",
    "    data_array = rio_array.read(1)  # assume that elevation is in the first band\n",
    "\n",
    "    f = open(ascfile, 'w')\n",
    "    f.write('ncols         {}\\n'.format(np.int(np.shape(data_array)[1]) + 1))\n",
    "    f.write('nrows         {}\\n'.format(np.int(np.shape(data_array)[0]) + 1))\n",
    "    f.write('xllcorner     {}\\n'.format((rio_array.transform * (0, rio_array.height))[0]))\n",
    "    f.write('yllcorner     {}\\n'.format((rio_array.transform * (0, rio_array.height))[1]))\n",
    "    f.write('cellsize      {}\\n'.format(rio_array.transform[0]))\n",
    "    f.write('NODATA_value  -9999\\n')\n",
    "\n",
    "    pix = '{0} '\n",
    "    for i in range(0, np.shape(data_array)[0], 10):\n",
    "        for j in range(0, np.shape(data_array)[1], 10):\n",
    "            if np.isnan(data_array[i, j]) == True:\n",
    "                f.write(pix.format(np.int(-9999)))  # need to replace nan with -9999\n",
    "            else:\n",
    "                f.write(pix.format(data_array[i, j]))\n",
    "        f.write(\"\\n\")\n",
    "    f.close()"
   ]
  },
  {
   "cell_type": "code",
   "execution_count": 6,
   "metadata": {},
   "outputs": [],
   "source": [
    "asc_path = 'tmp.asc'\n",
    "tif2asc(dem_path, asc_path)"
   ]
  },
  {
   "cell_type": "code",
   "execution_count": 7,
   "metadata": {},
   "outputs": [
    {
     "name": "stdout",
     "output_type": "stream",
     "text": [
      "Cergy-Pontoise-DEM.ipynb\t lith_block.npy  tmp.asc      y-coord.npy\n",
      "Cergy-Pontoise-GemPy.ipynb\t testLatLon.tif  tmp.tif      z-coord.npy\n",
      "Cergy-Pontoise-ipyleaflet.ipynb  test.tif\t tmpUTM.tif\n",
      "first_shot.png\t\t\t tileset\t x-coord.npy\n"
     ]
    }
   ],
   "source": [
    "!ls"
   ]
  },
  {
   "cell_type": "code",
   "execution_count": null,
   "metadata": {},
   "outputs": [],
   "source": []
  }
 ],
 "metadata": {
  "kernelspec": {
   "display_name": "Python 3",
   "language": "python",
   "name": "python3"
  },
  "language_info": {
   "codemirror_mode": {
    "name": "ipython",
    "version": 3
   },
   "file_extension": ".py",
   "mimetype": "text/x-python",
   "name": "python",
   "nbconvert_exporter": "python",
   "pygments_lexer": "ipython3",
   "version": "3.8.5"
  }
 },
 "nbformat": 4,
 "nbformat_minor": 4
}
